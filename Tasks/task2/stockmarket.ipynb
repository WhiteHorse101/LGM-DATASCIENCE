{
 "cells": [
  {
   "cell_type": "code",
   "execution_count": 43,
   "metadata": {},
   "outputs": [],
   "source": [
    "import pandas as pd\n",
    "import numpy as np\n",
    "import math\n",
    "import matplotlib.pyplot as plt\n",
    "from sklearn.preprocessing import MinMaxScaler\n",
    "from sklearn.metrics import mean_squared_error\n",
    "import tensorflow as tf\n",
    "from tensorflow.python.keras.models import Sequential\n",
    "from tensorflow.python.keras.layers import Dense\n",
    "from tensorflow.python.keras.layers import LSTM\n",
    "%matplotlib inline"
   ]
  },
  {
   "cell_type": "code",
   "execution_count": 3,
   "metadata": {},
   "outputs": [
    {
     "data": {
      "text/html": [
       "<div>\n",
       "<style scoped>\n",
       "    .dataframe tbody tr th:only-of-type {\n",
       "        vertical-align: middle;\n",
       "    }\n",
       "\n",
       "    .dataframe tbody tr th {\n",
       "        vertical-align: top;\n",
       "    }\n",
       "\n",
       "    .dataframe thead th {\n",
       "        text-align: right;\n",
       "    }\n",
       "</style>\n",
       "<table border=\"1\" class=\"dataframe\">\n",
       "  <thead>\n",
       "    <tr style=\"text-align: right;\">\n",
       "      <th></th>\n",
       "      <th>Date</th>\n",
       "      <th>Open</th>\n",
       "      <th>High</th>\n",
       "      <th>Low</th>\n",
       "      <th>Last</th>\n",
       "      <th>Close</th>\n",
       "      <th>Total Trade Quantity</th>\n",
       "      <th>Turnover (Lacs)</th>\n",
       "    </tr>\n",
       "  </thead>\n",
       "  <tbody>\n",
       "    <tr>\n",
       "      <th>0</th>\n",
       "      <td>2018-09-28</td>\n",
       "      <td>234.05</td>\n",
       "      <td>235.95</td>\n",
       "      <td>230.20</td>\n",
       "      <td>233.50</td>\n",
       "      <td>233.75</td>\n",
       "      <td>3069914</td>\n",
       "      <td>7162.35</td>\n",
       "    </tr>\n",
       "    <tr>\n",
       "      <th>1</th>\n",
       "      <td>2018-09-27</td>\n",
       "      <td>234.55</td>\n",
       "      <td>236.80</td>\n",
       "      <td>231.10</td>\n",
       "      <td>233.80</td>\n",
       "      <td>233.25</td>\n",
       "      <td>5082859</td>\n",
       "      <td>11859.95</td>\n",
       "    </tr>\n",
       "    <tr>\n",
       "      <th>2</th>\n",
       "      <td>2018-09-26</td>\n",
       "      <td>240.00</td>\n",
       "      <td>240.00</td>\n",
       "      <td>232.50</td>\n",
       "      <td>235.00</td>\n",
       "      <td>234.25</td>\n",
       "      <td>2240909</td>\n",
       "      <td>5248.60</td>\n",
       "    </tr>\n",
       "    <tr>\n",
       "      <th>3</th>\n",
       "      <td>2018-09-25</td>\n",
       "      <td>233.30</td>\n",
       "      <td>236.75</td>\n",
       "      <td>232.00</td>\n",
       "      <td>236.25</td>\n",
       "      <td>236.10</td>\n",
       "      <td>2349368</td>\n",
       "      <td>5503.90</td>\n",
       "    </tr>\n",
       "    <tr>\n",
       "      <th>4</th>\n",
       "      <td>2018-09-24</td>\n",
       "      <td>233.55</td>\n",
       "      <td>239.20</td>\n",
       "      <td>230.75</td>\n",
       "      <td>234.00</td>\n",
       "      <td>233.30</td>\n",
       "      <td>3423509</td>\n",
       "      <td>7999.55</td>\n",
       "    </tr>\n",
       "  </tbody>\n",
       "</table>\n",
       "</div>"
      ],
      "text/plain": [
       "         Date    Open    High     Low    Last   Close  Total Trade Quantity  \\\n",
       "0  2018-09-28  234.05  235.95  230.20  233.50  233.75               3069914   \n",
       "1  2018-09-27  234.55  236.80  231.10  233.80  233.25               5082859   \n",
       "2  2018-09-26  240.00  240.00  232.50  235.00  234.25               2240909   \n",
       "3  2018-09-25  233.30  236.75  232.00  236.25  236.10               2349368   \n",
       "4  2018-09-24  233.55  239.20  230.75  234.00  233.30               3423509   \n",
       "\n",
       "   Turnover (Lacs)  \n",
       "0          7162.35  \n",
       "1         11859.95  \n",
       "2          5248.60  \n",
       "3          5503.90  \n",
       "4          7999.55  "
      ]
     },
     "execution_count": 3,
     "metadata": {},
     "output_type": "execute_result"
    }
   ],
   "source": [
    "df = pd.read_csv('https://raw.githubusercontent.com/mwitiderrick/stockprice/master/NSE-TATAGLOBAL.csv')\n",
    "df = df.dropna()\n",
    "df.head()"
   ]
  },
  {
   "cell_type": "code",
   "execution_count": 4,
   "metadata": {},
   "outputs": [
    {
     "data": {
      "text/html": [
       "<div>\n",
       "<style scoped>\n",
       "    .dataframe tbody tr th:only-of-type {\n",
       "        vertical-align: middle;\n",
       "    }\n",
       "\n",
       "    .dataframe tbody tr th {\n",
       "        vertical-align: top;\n",
       "    }\n",
       "\n",
       "    .dataframe thead th {\n",
       "        text-align: right;\n",
       "    }\n",
       "</style>\n",
       "<table border=\"1\" class=\"dataframe\">\n",
       "  <thead>\n",
       "    <tr style=\"text-align: right;\">\n",
       "      <th></th>\n",
       "      <th>Date</th>\n",
       "      <th>Open</th>\n",
       "      <th>High</th>\n",
       "      <th>Low</th>\n",
       "      <th>Last</th>\n",
       "      <th>Close</th>\n",
       "      <th>Total Trade Quantity</th>\n",
       "      <th>Turnover (Lacs)</th>\n",
       "    </tr>\n",
       "  </thead>\n",
       "  <tbody>\n",
       "    <tr>\n",
       "      <th>2030</th>\n",
       "      <td>2010-07-27</td>\n",
       "      <td>117.6</td>\n",
       "      <td>119.50</td>\n",
       "      <td>112.00</td>\n",
       "      <td>118.80</td>\n",
       "      <td>118.65</td>\n",
       "      <td>586100</td>\n",
       "      <td>694.98</td>\n",
       "    </tr>\n",
       "    <tr>\n",
       "      <th>2031</th>\n",
       "      <td>2010-07-26</td>\n",
       "      <td>120.1</td>\n",
       "      <td>121.00</td>\n",
       "      <td>117.10</td>\n",
       "      <td>117.10</td>\n",
       "      <td>117.60</td>\n",
       "      <td>658440</td>\n",
       "      <td>780.01</td>\n",
       "    </tr>\n",
       "    <tr>\n",
       "      <th>2032</th>\n",
       "      <td>2010-07-23</td>\n",
       "      <td>121.8</td>\n",
       "      <td>121.95</td>\n",
       "      <td>120.25</td>\n",
       "      <td>120.35</td>\n",
       "      <td>120.65</td>\n",
       "      <td>281312</td>\n",
       "      <td>340.31</td>\n",
       "    </tr>\n",
       "    <tr>\n",
       "      <th>2033</th>\n",
       "      <td>2010-07-22</td>\n",
       "      <td>120.3</td>\n",
       "      <td>122.00</td>\n",
       "      <td>120.25</td>\n",
       "      <td>120.75</td>\n",
       "      <td>120.90</td>\n",
       "      <td>293312</td>\n",
       "      <td>355.17</td>\n",
       "    </tr>\n",
       "    <tr>\n",
       "      <th>2034</th>\n",
       "      <td>2010-07-21</td>\n",
       "      <td>122.1</td>\n",
       "      <td>123.00</td>\n",
       "      <td>121.05</td>\n",
       "      <td>121.10</td>\n",
       "      <td>121.55</td>\n",
       "      <td>658666</td>\n",
       "      <td>803.56</td>\n",
       "    </tr>\n",
       "  </tbody>\n",
       "</table>\n",
       "</div>"
      ],
      "text/plain": [
       "            Date   Open    High     Low    Last   Close  Total Trade Quantity  \\\n",
       "2030  2010-07-27  117.6  119.50  112.00  118.80  118.65                586100   \n",
       "2031  2010-07-26  120.1  121.00  117.10  117.10  117.60                658440   \n",
       "2032  2010-07-23  121.8  121.95  120.25  120.35  120.65                281312   \n",
       "2033  2010-07-22  120.3  122.00  120.25  120.75  120.90                293312   \n",
       "2034  2010-07-21  122.1  123.00  121.05  121.10  121.55                658666   \n",
       "\n",
       "      Turnover (Lacs)  \n",
       "2030           694.98  \n",
       "2031           780.01  \n",
       "2032           340.31  \n",
       "2033           355.17  \n",
       "2034           803.56  "
      ]
     },
     "execution_count": 4,
     "metadata": {},
     "output_type": "execute_result"
    }
   ],
   "source": [
    "df.tail()"
   ]
  },
  {
   "cell_type": "code",
   "execution_count": 5,
   "metadata": {},
   "outputs": [],
   "source": [
    "df_close = df['Close']"
   ]
  },
  {
   "cell_type": "code",
   "execution_count": 6,
   "metadata": {},
   "outputs": [
    {
     "data": {
      "text/plain": [
       "(2035,)"
      ]
     },
     "execution_count": 6,
     "metadata": {},
     "output_type": "execute_result"
    }
   ],
   "source": [
    "df_close.shape"
   ]
  },
  {
   "cell_type": "code",
   "execution_count": 7,
   "metadata": {},
   "outputs": [
    {
     "data": {
      "text/plain": [
       "[<matplotlib.lines.Line2D at 0x217d4dfa8f0>]"
      ]
     },
     "execution_count": 7,
     "metadata": {},
     "output_type": "execute_result"
    },
    {
     "data": {
      "image/png": "[encoded data removed]",
      "text/plain": [
       "<Figure size 432x288 with 1 Axes>"
      ]
     },
     "metadata": {
      "needs_background": "light"
     },
     "output_type": "display_data"
    }
   ],
   "source": [
    "plt.plot(df_close)"
   ]
  },
  {
   "cell_type": "code",
   "execution_count": 8,
   "metadata": {},
   "outputs": [],
   "source": [
    "scaler = MinMaxScaler(feature_range = (0,1))\n",
    "df_close = scaler.fit_transform(np.array(df_close).reshape(-1,1))"
   ]
  },
  {
   "cell_type": "code",
   "execution_count": 9,
   "metadata": {},
   "outputs": [
    {
     "data": {
      "text/plain": [
       "(2035, 1)"
      ]
     },
     "execution_count": 9,
     "metadata": {},
     "output_type": "execute_result"
    }
   ],
   "source": [
    "df_close.shape"
   ]
  },
  {
   "cell_type": "code",
   "execution_count": 10,
   "metadata": {},
   "outputs": [
    {
     "data": {
      "text/plain": [
       "array([[0.62418301],\n",
       "       [0.62214052],\n",
       "       [0.62622549],\n",
       "       ...,\n",
       "       [0.1621732 ],\n",
       "       [0.16319444],\n",
       "       [0.16584967]])"
      ]
     },
     "execution_count": 10,
     "metadata": {},
     "output_type": "execute_result"
    }
   ],
   "source": [
    "df_close"
   ]
  },
  {
   "cell_type": "code",
   "execution_count": 13,
   "metadata": {},
   "outputs": [],
   "source": [
    "training_size = int(len(df_close) * 0.75)\n",
    "test_size = len(df_close) - training_size\n",
    "train_data, test_data = df_close[0:training_size,:], df_close[training_size:len(df_close),:1]\n"
   ]
  },
  {
   "cell_type": "code",
   "execution_count": 14,
   "metadata": {},
   "outputs": [],
   "source": [
    "def create_dataset(dataset, time_step = 1):\n",
    "    dataX, dataY = [], []\n",
    "    for i in range(len(dataset) - time_step - 1):\n",
    "        a = dataset[i:(i+time_step), 0]\n",
    "        dataX.append(a)\n",
    "        dataY.append(dataset[i+time_step, 0])\n",
    "    return np.array(dataX), np.array(dataY)"
   ]
  },
  {
   "cell_type": "code",
   "execution_count": 15,
   "metadata": {},
   "outputs": [],
   "source": [
    "time_step = 100\n",
    "x_train, y_train = create_dataset(train_data, time_step)\n",
    "x_test, y_test = create_dataset(test_data, time_step)"
   ]
  },
  {
   "cell_type": "code",
   "execution_count": 16,
   "metadata": {},
   "outputs": [],
   "source": [
    "x_train = x_train.reshape(x_train.shape[0], x_train.shape[1], 1)\n",
    "x_test = x_test.reshape(x_test.shape[0], x_test.shape[1], 1)"
   ]
  },
  {
   "cell_type": "code",
   "execution_count": 17,
   "metadata": {},
   "outputs": [],
   "source": [
    "model = Sequential()\n",
    "model.add(LSTM(50, return_sequences = True, input_shape = (100,1)))\n",
    "model.add(LSTM(50, return_sequences = True))\n",
    "model.add(LSTM(50))\n",
    "model.add(Dense(1))\n",
    "model.compile(loss = 'mean_squared_error', optimizer = 'adam')"
   ]
  },
  {
   "cell_type": "code",
   "execution_count": 18,
   "metadata": {},
   "outputs": [
    {
     "name": "stdout",
     "output_type": "stream",
     "text": [
      "Model: \"sequential\"\n",
      "_________________________________________________________________\n",
      "Layer (type)                 Output Shape              Param #   \n",
      "=================================================================\n",
      "lstm (LSTM)                  (None, 100, 50)           10400     \n",
      "_________________________________________________________________\n",
      "lstm_1 (LSTM)                (None, 100, 50)           20200     \n",
      "_________________________________________________________________\n",
      "lstm_2 (LSTM)                (None, 50)                20200     \n",
      "_________________________________________________________________\n",
      "dense (Dense)                (None, 1)                 51        \n",
      "=================================================================\n",
      "Total params: 50,851\n",
      "Trainable params: 50,851\n",
      "Non-trainable params: 0\n",
      "_________________________________________________________________\n"
     ]
    }
   ],
   "source": [
    "model.summary()"
   ]
  },
  {
   "cell_type": "code",
   "execution_count": 38,
   "metadata": {},
   "outputs": [
    {
     "name": "stdout",
     "output_type": "stream",
     "text": [
      "Epoch 1/100\n",
      "23/23 [==============================] - 10s 433ms/step - loss: 8.2541e-04 - val_loss: 0.0010\n",
      "Epoch 2/100\n",
      "23/23 [==============================] - 9s 383ms/step - loss: 8.4196e-04 - val_loss: 8.4990e-04\n",
      "Epoch 3/100\n",
      "23/23 [==============================] - 9s 384ms/step - loss: 7.5234e-04 - val_loss: 8.4368e-04\n",
      "Epoch 4/100\n",
      "23/23 [==============================] - 9s 407ms/step - loss: 7.6480e-04 - val_loss: 6.8042e-04\n",
      "Epoch 5/100\n",
      "23/23 [==============================] - 8s 354ms/step - loss: 7.3975e-04 - val_loss: 6.8125e-04\n",
      "Epoch 6/100\n",
      "23/23 [==============================] - 9s 372ms/step - loss: 7.3163e-04 - val_loss: 6.2798e-04\n",
      "Epoch 7/100\n",
      "23/23 [==============================] - 9s 407ms/step - loss: 7.8732e-04 - val_loss: 9.2242e-04\n",
      "Epoch 8/100\n",
      "23/23 [==============================] - 9s 397ms/step - loss: 6.7786e-04 - val_loss: 7.6636e-04\n",
      "Epoch 9/100\n",
      "23/23 [==============================] - 13s 590ms/step - loss: 6.9243e-04 - val_loss: 6.2235e-04\n",
      "Epoch 10/100\n",
      "23/23 [==============================] - 16s 668ms/step - loss: 7.6058e-04 - val_loss: 8.4327e-04\n",
      "Epoch 11/100\n",
      "23/23 [==============================] - 10s 425ms/step - loss: 6.6852e-04 - val_loss: 9.9476e-04\n",
      "Epoch 12/100\n",
      "23/23 [==============================] - 8s 360ms/step - loss: 6.1629e-04 - val_loss: 7.8234e-04\n",
      "Epoch 13/100\n",
      "23/23 [==============================] - 9s 386ms/step - loss: 6.4926e-04 - val_loss: 7.5719e-04\n",
      "Epoch 14/100\n",
      "23/23 [==============================] - 8s 354ms/step - loss: 6.8479e-04 - val_loss: 6.8410e-04\n",
      "Epoch 15/100\n",
      "23/23 [==============================] - 8s 359ms/step - loss: 7.2077e-04 - val_loss: 0.0010\n",
      "Epoch 16/100\n",
      "23/23 [==============================] - 8s 365ms/step - loss: 6.2630e-04 - val_loss: 7.5714e-04\n",
      "Epoch 17/100\n",
      "23/23 [==============================] - 8s 359ms/step - loss: 7.4153e-04 - val_loss: 7.4571e-04\n",
      "Epoch 18/100\n",
      "23/23 [==============================] - 9s 378ms/step - loss: 5.5773e-04 - val_loss: 8.8205e-04\n",
      "Epoch 19/100\n",
      "23/23 [==============================] - 8s 359ms/step - loss: 5.5931e-04 - val_loss: 5.9200e-04\n",
      "Epoch 20/100\n",
      "23/23 [==============================] - 8s 364ms/step - loss: 5.4759e-04 - val_loss: 7.9297e-04\n",
      "Epoch 21/100\n",
      "23/23 [==============================] - 8s 363ms/step - loss: 5.4688e-04 - val_loss: 6.6435e-04\n",
      "Epoch 22/100\n",
      "23/23 [==============================] - 9s 370ms/step - loss: 5.4341e-04 - val_loss: 6.5851e-04\n",
      "Epoch 23/100\n",
      "23/23 [==============================] - 8s 365ms/step - loss: 5.1763e-04 - val_loss: 6.9758e-04\n",
      "Epoch 24/100\n",
      "23/23 [==============================] - 8s 361ms/step - loss: 5.0962e-04 - val_loss: 6.8764e-04\n",
      "Epoch 25/100\n",
      "23/23 [==============================] - 8s 358ms/step - loss: 5.0140e-04 - val_loss: 6.1025e-04\n",
      "Epoch 26/100\n",
      "23/23 [==============================] - 8s 364ms/step - loss: 5.1024e-04 - val_loss: 8.1116e-04\n",
      "Epoch 27/100\n",
      "23/23 [==============================] - 8s 363ms/step - loss: 5.2655e-04 - val_loss: 5.5752e-04\n",
      "Epoch 28/100\n",
      "23/23 [==============================] - 8s 358ms/step - loss: 4.7870e-04 - val_loss: 8.3365e-04\n",
      "Epoch 29/100\n",
      "23/23 [==============================] - 8s 355ms/step - loss: 5.2831e-04 - val_loss: 5.9851e-04\n",
      "Epoch 30/100\n",
      "23/23 [==============================] - 8s 360ms/step - loss: 4.4687e-04 - val_loss: 5.9887e-04\n",
      "Epoch 31/100\n",
      "23/23 [==============================] - 8s 359ms/step - loss: 4.8070e-04 - val_loss: 8.7994e-04\n",
      "Epoch 32/100\n",
      "23/23 [==============================] - 8s 353ms/step - loss: 4.7758e-04 - val_loss: 6.1501e-04\n",
      "Epoch 33/100\n",
      "23/23 [==============================] - 8s 364ms/step - loss: 4.7910e-04 - val_loss: 4.1663e-04\n",
      "Epoch 34/100\n",
      "23/23 [==============================] - 8s 359ms/step - loss: 4.8251e-04 - val_loss: 6.8275e-04\n",
      "Epoch 35/100\n",
      "23/23 [==============================] - 8s 363ms/step - loss: 4.5975e-04 - val_loss: 4.4891e-04\n",
      "Epoch 36/100\n",
      "23/23 [==============================] - 8s 353ms/step - loss: 4.0955e-04 - val_loss: 4.6842e-04\n",
      "Epoch 37/100\n",
      "23/23 [==============================] - 8s 360ms/step - loss: 4.2815e-04 - val_loss: 4.6544e-04\n",
      "Epoch 38/100\n",
      "23/23 [==============================] - 9s 408ms/step - loss: 4.2018e-04 - val_loss: 4.8108e-04\n",
      "Epoch 39/100\n",
      "23/23 [==============================] - 9s 378ms/step - loss: 4.8316e-04 - val_loss: 6.6035e-04\n",
      "Epoch 40/100\n",
      "23/23 [==============================] - 8s 366ms/step - loss: 5.7775e-04 - val_loss: 5.9760e-04\n",
      "Epoch 41/100\n",
      "23/23 [==============================] - 8s 361ms/step - loss: 4.2500e-04 - val_loss: 5.0687e-04\n",
      "Epoch 42/100\n",
      "23/23 [==============================] - 8s 363ms/step - loss: 3.8875e-04 - val_loss: 4.7108e-04\n",
      "Epoch 43/100\n",
      "23/23 [==============================] - 8s 367ms/step - loss: 3.8336e-04 - val_loss: 3.7538e-04\n",
      "Epoch 44/100\n",
      "23/23 [==============================] - 8s 344ms/step - loss: 3.6100e-04 - val_loss: 3.6914e-04\n",
      "Epoch 45/100\n",
      "23/23 [==============================] - 7s 311ms/step - loss: 3.9778e-04 - val_loss: 3.1053e-04\n",
      "Epoch 46/100\n",
      "23/23 [==============================] - 7s 294ms/step - loss: 3.8299e-04 - val_loss: 4.7311e-04\n",
      "Epoch 47/100\n",
      "23/23 [==============================] - 7s 292ms/step - loss: 3.5538e-04 - val_loss: 5.3348e-04\n",
      "Epoch 48/100\n",
      "23/23 [==============================] - 7s 299ms/step - loss: 3.8582e-04 - val_loss: 3.9891e-04\n",
      "Epoch 49/100\n",
      "23/23 [==============================] - 7s 296ms/step - loss: 3.4514e-04 - val_loss: 4.1798e-04\n",
      "Epoch 50/100\n",
      "23/23 [==============================] - 7s 293ms/step - loss: 3.2139e-04 - val_loss: 3.7885e-04\n",
      "Epoch 51/100\n",
      "23/23 [==============================] - 7s 297ms/step - loss: 4.1739e-04 - val_loss: 2.8679e-04\n",
      "Epoch 52/100\n",
      "23/23 [==============================] - 7s 297ms/step - loss: 3.8825e-04 - val_loss: 3.4058e-04\n",
      "Epoch 53/100\n",
      "23/23 [==============================] - 7s 296ms/step - loss: 3.5950e-04 - val_loss: 3.9365e-04\n",
      "Epoch 54/100\n",
      "23/23 [==============================] - 7s 298ms/step - loss: 3.3307e-04 - val_loss: 3.5227e-04\n",
      "Epoch 55/100\n",
      "23/23 [==============================] - 7s 288ms/step - loss: 2.9021e-04 - val_loss: 3.3234e-04\n",
      "Epoch 56/100\n",
      "23/23 [==============================] - 7s 299ms/step - loss: 3.4570e-04 - val_loss: 3.1137e-04\n",
      "Epoch 57/100\n",
      "23/23 [==============================] - 7s 300ms/step - loss: 3.0922e-04 - val_loss: 5.1606e-04\n",
      "Epoch 58/100\n",
      "23/23 [==============================] - 7s 291ms/step - loss: 3.5584e-04 - val_loss: 5.6685e-04\n",
      "Epoch 59/100\n",
      "23/23 [==============================] - 7s 296ms/step - loss: 3.0075e-04 - val_loss: 3.8719e-04\n",
      "Epoch 60/100\n",
      "23/23 [==============================] - 7s 302ms/step - loss: 2.8851e-04 - val_loss: 3.6935e-04\n",
      "Epoch 61/100\n",
      "23/23 [==============================] - 7s 302ms/step - loss: 3.0307e-04 - val_loss: 2.6370e-04\n",
      "Epoch 62/100\n",
      "23/23 [==============================] - 7s 312ms/step - loss: 2.9526e-04 - val_loss: 2.9236e-04\n",
      "Epoch 63/100\n",
      "23/23 [==============================] - 7s 296ms/step - loss: 2.8846e-04 - val_loss: 4.7425e-04\n",
      "Epoch 64/100\n",
      "23/23 [==============================] - 7s 289ms/step - loss: 2.6667e-04 - val_loss: 3.5753e-04\n",
      "Epoch 65/100\n",
      "23/23 [==============================] - 7s 296ms/step - loss: 2.7824e-04 - val_loss: 2.9665e-04\n",
      "Epoch 66/100\n",
      "23/23 [==============================] - 7s 299ms/step - loss: 2.4899e-04 - val_loss: 2.7321e-04\n",
      "Epoch 67/100\n",
      "23/23 [==============================] - 7s 297ms/step - loss: 2.6257e-04 - val_loss: 4.1064e-04\n",
      "Epoch 68/100\n",
      "23/23 [==============================] - 7s 295ms/step - loss: 2.5276e-04 - val_loss: 4.4540e-04\n",
      "Epoch 69/100\n",
      "23/23 [==============================] - 7s 292ms/step - loss: 3.0286e-04 - val_loss: 2.3927e-04\n",
      "Epoch 70/100\n",
      "23/23 [==============================] - 7s 301ms/step - loss: 2.9473e-04 - val_loss: 4.4268e-04\n",
      "Epoch 71/100\n",
      "23/23 [==============================] - 7s 304ms/step - loss: 2.5377e-04 - val_loss: 2.3640e-04\n",
      "Epoch 72/100\n",
      "23/23 [==============================] - 7s 290ms/step - loss: 2.5803e-04 - val_loss: 2.6779e-04\n",
      "Epoch 73/100\n",
      "23/23 [==============================] - 7s 305ms/step - loss: 2.6341e-04 - val_loss: 3.2689e-04\n",
      "Epoch 74/100\n",
      "23/23 [==============================] - 7s 312ms/step - loss: 2.3734e-04 - val_loss: 3.2565e-04\n",
      "Epoch 75/100\n",
      "23/23 [==============================] - 7s 296ms/step - loss: 2.3354e-04 - val_loss: 3.2153e-04\n",
      "Epoch 76/100\n",
      "23/23 [==============================] - 7s 298ms/step - loss: 2.3236e-04 - val_loss: 3.6208e-04\n",
      "Epoch 77/100\n",
      "23/23 [==============================] - 7s 301ms/step - loss: 2.4802e-04 - val_loss: 4.5895e-04\n",
      "Epoch 78/100\n",
      "23/23 [==============================] - 7s 292ms/step - loss: 2.8711e-04 - val_loss: 2.1551e-04\n",
      "Epoch 79/100\n",
      "23/23 [==============================] - 7s 293ms/step - loss: 2.3603e-04 - val_loss: 4.0884e-04\n",
      "Epoch 80/100\n",
      "23/23 [==============================] - 7s 295ms/step - loss: 2.8192e-04 - val_loss: 2.7103e-04\n",
      "Epoch 81/100\n",
      "23/23 [==============================] - 7s 290ms/step - loss: 2.4753e-04 - val_loss: 3.1480e-04\n",
      "Epoch 82/100\n",
      "23/23 [==============================] - 7s 298ms/step - loss: 2.2865e-04 - val_loss: 2.4961e-04\n",
      "Epoch 83/100\n",
      "23/23 [==============================] - 7s 295ms/step - loss: 2.4564e-04 - val_loss: 2.9905e-04\n",
      "Epoch 84/100\n",
      "23/23 [==============================] - 7s 291ms/step - loss: 2.2618e-04 - val_loss: 3.3081e-04\n",
      "Epoch 85/100\n",
      "23/23 [==============================] - 7s 292ms/step - loss: 3.0033e-04 - val_loss: 2.2423e-04\n",
      "Epoch 86/100\n",
      "23/23 [==============================] - 7s 299ms/step - loss: 2.6044e-04 - val_loss: 3.8949e-04\n",
      "Epoch 87/100\n",
      "23/23 [==============================] - 7s 298ms/step - loss: 2.4863e-04 - val_loss: 2.3418e-04\n",
      "Epoch 88/100\n",
      "23/23 [==============================] - 7s 301ms/step - loss: 2.2178e-04 - val_loss: 2.4664e-04\n",
      "Epoch 89/100\n",
      "23/23 [==============================] - 7s 299ms/step - loss: 2.2804e-04 - val_loss: 2.7971e-04\n",
      "Epoch 90/100\n",
      "23/23 [==============================] - 7s 296ms/step - loss: 2.0781e-04 - val_loss: 3.1270e-04\n",
      "Epoch 91/100\n",
      "23/23 [==============================] - 7s 296ms/step - loss: 2.1909e-04 - val_loss: 2.1230e-04\n",
      "Epoch 92/100\n",
      "23/23 [==============================] - 7s 292ms/step - loss: 2.0529e-04 - val_loss: 2.2595e-04\n",
      "Epoch 93/100\n",
      "23/23 [==============================] - 7s 292ms/step - loss: 2.1094e-04 - val_loss: 1.8656e-04\n",
      "Epoch 94/100\n",
      "23/23 [==============================] - 7s 297ms/step - loss: 2.1657e-04 - val_loss: 2.0543e-04\n",
      "Epoch 95/100\n",
      "23/23 [==============================] - 7s 292ms/step - loss: 2.3775e-04 - val_loss: 2.8424e-04\n",
      "Epoch 96/100\n",
      "23/23 [==============================] - 7s 294ms/step - loss: 2.0978e-04 - val_loss: 3.7325e-04\n",
      "Epoch 97/100\n",
      "23/23 [==============================] - 7s 298ms/step - loss: 2.7164e-04 - val_loss: 1.7677e-04\n",
      "Epoch 98/100\n",
      "23/23 [==============================] - 7s 292ms/step - loss: 2.4366e-04 - val_loss: 2.1705e-04\n",
      "Epoch 99/100\n",
      "23/23 [==============================] - 7s 297ms/step - loss: 2.0575e-04 - val_loss: 2.4395e-04\n",
      "Epoch 100/100\n",
      "23/23 [==============================] - 7s 289ms/step - loss: 2.2034e-04 - val_loss: 2.3275e-04\n"
     ]
    },
    {
     "data": {
      "text/plain": [
       "<tensorflow.python.keras.callbacks.History at 0x217f172e890>"
      ]
     },
     "execution_count": 38,
     "metadata": {},
     "output_type": "execute_result"
    }
   ],
   "source": [
    "model.fit(x_train, y_train, validation_data = (x_test, y_test), epochs =100 , batch_size = 64, verbose = 1)"
   ]
  },
  {
   "cell_type": "code",
   "execution_count": 20,
   "metadata": {},
   "outputs": [],
   "source": [
    "train_predict = model.predict(x_train)\n",
    "test_predict = model.predict(x_test)"
   ]
  },
  {
   "cell_type": "code",
   "execution_count": 21,
   "metadata": {},
   "outputs": [],
   "source": [
    "train_predict = scaler.inverse_transform(train_predict)\n",
    "test_predict = scaler.inverse_transform(test_predict)"
   ]
  },
  {
   "cell_type": "code",
   "execution_count": 24,
   "metadata": {},
   "outputs": [
    {
     "data": {
      "text/plain": [
       "158.40433344330006"
      ]
     },
     "execution_count": 24,
     "metadata": {},
     "output_type": "execute_result"
    }
   ],
   "source": [
    "math.sqrt(mean_squared_error(y_train, train_predict))"
   ]
  },
  {
   "cell_type": "code",
   "execution_count": 25,
   "metadata": {},
   "outputs": [
    {
     "data": {
      "text/plain": [
       "107.31489816353849"
      ]
     },
     "execution_count": 25,
     "metadata": {},
     "output_type": "execute_result"
    }
   ],
   "source": [
    "math.sqrt(mean_squared_error(y_test, test_predict))"
   ]
  },
  {
   "cell_type": "code",
   "execution_count": 26,
   "metadata": {},
   "outputs": [
    {
     "data": {
      "image/png": "[encoded data removed]",
      "text/plain": [
       "<Figure size 432x288 with 1 Axes>"
      ]
     },
     "metadata": {
      "needs_background": "light"
     },
     "output_type": "display_data"
    }
   ],
   "source": [
    "\n",
    "#Shift train prediction for plotting\n",
    "look_back = 100\n",
    "trainPredictPlot = np.empty_like(df_close)\n",
    "trainPredictPlot[:,:] = np.nan\n",
    "trainPredictPlot[look_back:len(train_predict) + look_back, :] = train_predict\n",
    "\n",
    "#Shift test prediction for plotting\n",
    "testPredictPlot = np.empty_like(df_close)\n",
    "testPredictPlot[:,:] = np.nan\n",
    "testPredictPlot[len(train_predict) + (look_back * 2)+1:len(df_close) - 1, :] = test_predict\n",
    "\n",
    "#Plot baseline and predictions\n",
    "plt.plot(scaler.inverse_transform(df_close))\n",
    "plt.plot(trainPredictPlot)\n",
    "plt.plot(testPredictPlot)\n",
    "plt.show()"
   ]
  },
  {
   "cell_type": "code",
   "execution_count": 27,
   "metadata": {},
   "outputs": [
    {
     "data": {
      "text/plain": [
       "(509, (408, 100, 1))"
      ]
     },
     "execution_count": 27,
     "metadata": {},
     "output_type": "execute_result"
    }
   ],
   "source": [
    "#Predict the next 30 days Stock Price\n",
    "len(test_data), x_test.shape"
   ]
  },
  {
   "cell_type": "code",
   "execution_count": 28,
   "metadata": {},
   "outputs": [
    {
     "data": {
      "text/plain": [
       "(1, 302)"
      ]
     },
     "execution_count": 28,
     "metadata": {},
     "output_type": "execute_result"
    }
   ],
   "source": [
    "x_input = test_data[207:].reshape(1,-1)\n",
    "x_input.shape"
   ]
  },
  {
   "cell_type": "code",
   "execution_count": 29,
   "metadata": {},
   "outputs": [],
   "source": [
    "temp_input = list(x_input)\n",
    "temp_input = temp_input[0].tolist()"
   ]
  },
  {
   "cell_type": "code",
   "execution_count": 39,
   "metadata": {},
   "outputs": [
    {
     "name": "stdout",
     "output_type": "stream",
     "text": [
      "0 day input [0.01940359 0.02246732 0.03125    0.02348856 0.0249183  0.02144608\n",
      " 0.04840686 0.04575163 0.03962418 0.03921569 0.04758987 0.04513889\n",
      " 0.04166667 0.04125817 0.05044935 0.05555556 0.05494281 0.05412582\n",
      " 0.0435049  0.04799837 0.05147059 0.05065359 0.03431373 0.04575163\n",
      " 0.04187092 0.04554739 0.03941993 0.02716503 0.03125    0.05882353\n",
      " 0.07148693 0.08721405 0.08986928 0.10498366 0.08905229 0.10355392\n",
      " 0.10375817 0.12275327 0.10906863 0.09660948 0.1064134  0.10457516\n",
      " 0.11049837 0.1127451  0.09803922 0.09987745 0.08925654 0.0747549\n",
      " 0.08169935 0.08925654 0.09068627 0.08129085 0.08823529 0.08455882\n",
      " 0.07945261 0.08374183 0.07781863 0.09824346 0.09089052 0.09007353\n",
      " 0.09558824 0.06862745 0.06372549 0.0494281  0.04799837 0.04534314\n",
      " 0.0443219  0.03941993 0.0379902  0.04656863 0.05085784 0.07209967\n",
      " 0.06535948 0.07230392 0.07802288 0.07741013 0.06086601 0.06413399\n",
      " 0.07046569 0.05412582 0.0498366  0.05167484 0.05330882 0.0435049\n",
      " 0.02634804 0.02410131 0.02961601 0.01960784 0.02961601 0.04575163\n",
      " 0.05923203 0.06678922 0.06229575 0.06311275 0.0629085  0.06658497\n",
      " 0.07434641 0.06944444 0.08088235 0.07700163 0.0684232  0.06781046\n",
      " 0.0629085  0.0692402  0.0755719  0.07781863 0.08088235 0.08843954\n",
      " 0.09395425 0.09599673 0.08660131 0.09027778 0.08517157 0.08374183\n",
      " 0.07945261 0.09109477 0.09129902 0.08803105 0.09681373 0.11417484\n",
      " 0.10498366 0.09987745 0.08537582 0.08047386 0.06862745 0.06576797\n",
      " 0.06147876 0.07169118 0.07026144 0.0747549  0.06821895 0.0692402\n",
      " 0.07066993 0.06801471 0.06678922 0.07414216 0.07169118 0.08639706\n",
      " 0.08312908 0.06311275 0.0629085  0.05167484 0.03186275 0.04003268\n",
      " 0.03860294 0.04105392 0.03390523 0.03125    0.02634804 0.05861928\n",
      " 0.06311275 0.0620915  0.05535131 0.08455882 0.05514706 0.06045752\n",
      " 0.0557598  0.0439134  0.02920752 0.02818627 0.04718137 0.06045752\n",
      " 0.05861928 0.06168301 0.06699346 0.07087418 0.0755719  0.07700163\n",
      " 0.10375817 0.10314542 0.10334967 0.10089869 0.10437092 0.09803922\n",
      " 0.09722222 0.09783497 0.09579248 0.09109477 0.09313725 0.08558007\n",
      " 0.09517974 0.11172386 0.12275327 0.12806373 0.1313317  0.12479575\n",
      " 0.11090686 0.10743464 0.11621732 0.11683007 0.11764706 0.12888072\n",
      " 0.12847222 0.13337418 0.14236111 0.14093137 0.13970588 0.13827614\n",
      " 0.13541667 0.13010621 0.12254902 0.12479575 0.13848039 0.14011438\n",
      " 0.13888889 0.13541667 0.14011438 0.1380719  0.13071895 0.13071895\n",
      " 0.12867647 0.11846405 0.14644608 0.14808007 0.15910948 0.15992647\n",
      " 0.15788399 0.16441993 0.17892157 0.17933007 0.19260621 0.20812908\n",
      " 0.18974673 0.18055556 0.18239379 0.17708333 0.17810458 0.18055556\n",
      " 0.17810458 0.17851307 0.19607843 0.18913399 0.18954248 0.19403595\n",
      " 0.19444444 0.20200163 0.19771242 0.19934641 0.19873366 0.1997549\n",
      " 0.2128268  0.21568627 0.20445261 0.21772876 0.21098856 0.21425654\n",
      " 0.19750817 0.18811275 0.17851307 0.17381536 0.16033497 0.16564542\n",
      " 0.17116013 0.17422386 0.18035131 0.17401961 0.16278595 0.16973039\n",
      " 0.17810458 0.17034314 0.16830065 0.17279412 0.17544935 0.18382353\n",
      " 0.19138072 0.18913399 0.19097222 0.17238562 0.16830065 0.1693219\n",
      " 0.17177288 0.16156046 0.14971405 0.1503268  0.15196078 0.14726307\n",
      " 0.14501634 0.14603758 0.12479575 0.13112745 0.11397059 0.1190768\n",
      " 0.12377451 0.13562092 0.12908497 0.13459967 0.12806373 0.13031046\n",
      " 0.12724673 0.13521242 0.14522059 0.15257353 0.14848856 0.14338235\n",
      " 0.14562908 0.15236928 0.15400327 0.14971405 0.1621732  0.16319444\n",
      " 0.16584967]\n"
     ]
    },
    {
     "ename": "ValueError",
     "evalue": "cannot reshape array of size 301 into shape (1,100,1)",
     "output_type": "error",
     "traceback": [
      "\u001b[1;31m---------------------------------------------------------------------------\u001b[0m",
      "\u001b[1;31mValueError\u001b[0m                                Traceback (most recent call last)",
      "\u001b[1;32mf:\\LGM Tasks\\Tasks\\task2\\stockmarket.ipynb Cell 25'\u001b[0m in \u001b[0;36m<module>\u001b[1;34m\u001b[0m\n\u001b[0;32m     <a href='vscode-notebook-cell:/f%3A/LGM%20Tasks/Tasks/task2/stockmarket.ipynb#ch0000025?line=9'>10</a>\u001b[0m \u001b[39mprint\u001b[39m(\u001b[39m\"\u001b[39m\u001b[39m{}\u001b[39;00m\u001b[39m day input \u001b[39m\u001b[39m{}\u001b[39;00m\u001b[39m\"\u001b[39m\u001b[39m.\u001b[39mformat(i,x_input))\n\u001b[0;32m     <a href='vscode-notebook-cell:/f%3A/LGM%20Tasks/Tasks/task2/stockmarket.ipynb#ch0000025?line=10'>11</a>\u001b[0m x_input\u001b[39m=\u001b[39mx_input\u001b[39m.\u001b[39mreshape(\u001b[39m1\u001b[39m,\u001b[39m-\u001b[39m\u001b[39m1\u001b[39m)\n\u001b[1;32m---> <a href='vscode-notebook-cell:/f%3A/LGM%20Tasks/Tasks/task2/stockmarket.ipynb#ch0000025?line=11'>12</a>\u001b[0m x_input \u001b[39m=\u001b[39m x_input\u001b[39m.\u001b[39;49mreshape((\u001b[39m1\u001b[39;49m, n_steps, \u001b[39m1\u001b[39;49m))\n\u001b[0;32m     <a href='vscode-notebook-cell:/f%3A/LGM%20Tasks/Tasks/task2/stockmarket.ipynb#ch0000025?line=12'>13</a>\u001b[0m yhat \u001b[39m=\u001b[39m model\u001b[39m.\u001b[39mpredict(x_input, verbose\u001b[39m=\u001b[39m\u001b[39m0\u001b[39m)\n\u001b[0;32m     <a href='vscode-notebook-cell:/f%3A/LGM%20Tasks/Tasks/task2/stockmarket.ipynb#ch0000025?line=13'>14</a>\u001b[0m \u001b[39mprint\u001b[39m(\u001b[39m\"\u001b[39m\u001b[39m{}\u001b[39;00m\u001b[39m day output \u001b[39m\u001b[39m{}\u001b[39;00m\u001b[39m\"\u001b[39m\u001b[39m.\u001b[39mformat(i,yhat))\n",
      "\u001b[1;31mValueError\u001b[0m: cannot reshape array of size 301 into shape (1,100,1)"
     ]
    }
   ],
   "source": [
    "lst_output=[]\n",
    "n_steps=100\n",
    "nextNumberOfDays = 30\n",
    "i=0\n",
    "\n",
    "while(i<nextNumberOfDays):\n",
    "    \n",
    "    if(len(temp_input)>100):\n",
    "        x_input=np.array(temp_input[1:])\n",
    "        print(\"{} day input {}\".format(i,x_input))\n",
    "        x_input=x_input.reshape(1,-1)\n",
    "        x_input = x_input.reshape((1, n_steps, 1))\n",
    "        yhat = model.predict(x_input, verbose=0)\n",
    "        print(\"{} day output {}\".format(i,yhat))\n",
    "        temp_input.extend(yhat[0].tolist())\n",
    "        temp_input=temp_input[1:]\n",
    "        lst_output.extend(yhat.tolist())\n",
    "        i=i+1\n",
    "    else:\n",
    "        x_input = x_input.reshape((1, n_steps,1))\n",
    "        yhat = model.predict(x_input, verbose=0)\n",
    "        print(yhat[0])\n",
    "        temp_input.extend(yhat[0].tolist())\n",
    "        print(len(temp_input))\n",
    "        lst_output.extend(yhat.tolist())\n",
    "        i=i+1\n",
    "    \n",
    "\n",
    "print(lst_output)"
   ]
  },
  {
   "cell_type": "code",
   "execution_count": 34,
   "metadata": {},
   "outputs": [],
   "source": [
    "day_new = np.arange(1,101)\n",
    "day_pred = np.arange(101,131)"
   ]
  },
  {
   "cell_type": "code",
   "execution_count": 35,
   "metadata": {},
   "outputs": [],
   "source": [
    "df3 = df_close.tolist()\n",
    "df3.extend(lst_output)"
   ]
  },
  {
   "cell_type": "code",
   "execution_count": 41,
   "metadata": {},
   "outputs": [
    {
     "data": {
      "text/plain": [
       "2035"
      ]
     },
     "execution_count": 41,
     "metadata": {},
     "output_type": "execute_result"
    }
   ],
   "source": [
    "len(df_close)"
   ]
  },
  {
   "cell_type": "code",
   "execution_count": 42,
   "metadata": {},
   "outputs": [
    {
     "ename": "ValueError",
     "evalue": "x and y must have same first dimension, but have shapes (100,) and (907, 1)",
     "output_type": "error",
     "traceback": [
      "\u001b[1;31m---------------------------------------------------------------------------\u001b[0m",
      "\u001b[1;31mValueError\u001b[0m                                Traceback (most recent call last)",
      "\u001b[1;32mf:\\LGM Tasks\\Tasks\\task2\\stockmarket.ipynb Cell 29'\u001b[0m in \u001b[0;36m<module>\u001b[1;34m\u001b[0m\n\u001b[1;32m----> <a href='vscode-notebook-cell:/f%3A/LGM%20Tasks/Tasks/task2/stockmarket.ipynb#ch0000030?line=0'>1</a>\u001b[0m plt\u001b[39m.\u001b[39;49mplot(day_new, scaler\u001b[39m.\u001b[39;49minverse_transform(df_close[\u001b[39m1128\u001b[39;49m:]))\n\u001b[0;32m      <a href='vscode-notebook-cell:/f%3A/LGM%20Tasks/Tasks/task2/stockmarket.ipynb#ch0000030?line=1'>2</a>\u001b[0m plt\u001b[39m.\u001b[39mplot(day_pred, scaler\u001b[39m.\u001b[39minverse_transform(lst_output))\n",
      "File \u001b[1;32m~\\AppData\\Roaming\\Python\\Python310\\site-packages\\matplotlib\\pyplot.py:2757\u001b[0m, in \u001b[0;36mplot\u001b[1;34m(scalex, scaley, data, *args, **kwargs)\u001b[0m\n\u001b[0;32m   <a href='file:///~/AppData/Roaming/Python/Python310/site-packages/matplotlib/pyplot.py?line=2754'>2755</a>\u001b[0m \u001b[39m@_copy_docstring_and_deprecators\u001b[39m(Axes\u001b[39m.\u001b[39mplot)\n\u001b[0;32m   <a href='file:///~/AppData/Roaming/Python/Python310/site-packages/matplotlib/pyplot.py?line=2755'>2756</a>\u001b[0m \u001b[39mdef\u001b[39;00m \u001b[39mplot\u001b[39m(\u001b[39m*\u001b[39margs, scalex\u001b[39m=\u001b[39m\u001b[39mTrue\u001b[39;00m, scaley\u001b[39m=\u001b[39m\u001b[39mTrue\u001b[39;00m, data\u001b[39m=\u001b[39m\u001b[39mNone\u001b[39;00m, \u001b[39m*\u001b[39m\u001b[39m*\u001b[39mkwargs):\n\u001b[1;32m-> <a href='file:///~/AppData/Roaming/Python/Python310/site-packages/matplotlib/pyplot.py?line=2756'>2757</a>\u001b[0m     \u001b[39mreturn\u001b[39;00m gca()\u001b[39m.\u001b[39mplot(\n\u001b[0;32m   <a href='file:///~/AppData/Roaming/Python/Python310/site-packages/matplotlib/pyplot.py?line=2757'>2758</a>\u001b[0m         \u001b[39m*\u001b[39margs, scalex\u001b[39m=\u001b[39mscalex, scaley\u001b[39m=\u001b[39mscaley,\n\u001b[0;32m   <a href='file:///~/AppData/Roaming/Python/Python310/site-packages/matplotlib/pyplot.py?line=2758'>2759</a>\u001b[0m         \u001b[39m*\u001b[39m\u001b[39m*\u001b[39m({\u001b[39m\"\u001b[39m\u001b[39mdata\u001b[39m\u001b[39m\"\u001b[39m: data} \u001b[39mif\u001b[39;00m data \u001b[39mis\u001b[39;00m \u001b[39mnot\u001b[39;00m \u001b[39mNone\u001b[39;00m \u001b[39melse\u001b[39;00m {}), \u001b[39m*\u001b[39m\u001b[39m*\u001b[39mkwargs)\n",
      "File \u001b[1;32m~\\AppData\\Roaming\\Python\\Python310\\site-packages\\matplotlib\\axes\\_axes.py:1632\u001b[0m, in \u001b[0;36mAxes.plot\u001b[1;34m(self, scalex, scaley, data, *args, **kwargs)\u001b[0m\n\u001b[0;32m   <a href='file:///~/AppData/Roaming/Python/Python310/site-packages/matplotlib/axes/_axes.py?line=1389'>1390</a>\u001b[0m \u001b[39m\"\"\"\u001b[39;00m\n\u001b[0;32m   <a href='file:///~/AppData/Roaming/Python/Python310/site-packages/matplotlib/axes/_axes.py?line=1390'>1391</a>\u001b[0m \u001b[39mPlot y versus x as lines and/or markers.\u001b[39;00m\n\u001b[0;32m   <a href='file:///~/AppData/Roaming/Python/Python310/site-packages/matplotlib/axes/_axes.py?line=1391'>1392</a>\u001b[0m \n\u001b[1;32m   (...)\u001b[0m\n\u001b[0;32m   <a href='file:///~/AppData/Roaming/Python/Python310/site-packages/matplotlib/axes/_axes.py?line=1628'>1629</a>\u001b[0m \u001b[39m(``'green'``) or hex strings (``'#008000'``).\u001b[39;00m\n\u001b[0;32m   <a href='file:///~/AppData/Roaming/Python/Python310/site-packages/matplotlib/axes/_axes.py?line=1629'>1630</a>\u001b[0m \u001b[39m\"\"\"\u001b[39;00m\n\u001b[0;32m   <a href='file:///~/AppData/Roaming/Python/Python310/site-packages/matplotlib/axes/_axes.py?line=1630'>1631</a>\u001b[0m kwargs \u001b[39m=\u001b[39m cbook\u001b[39m.\u001b[39mnormalize_kwargs(kwargs, mlines\u001b[39m.\u001b[39mLine2D)\n\u001b[1;32m-> <a href='file:///~/AppData/Roaming/Python/Python310/site-packages/matplotlib/axes/_axes.py?line=1631'>1632</a>\u001b[0m lines \u001b[39m=\u001b[39m [\u001b[39m*\u001b[39m\u001b[39mself\u001b[39m\u001b[39m.\u001b[39m_get_lines(\u001b[39m*\u001b[39margs, data\u001b[39m=\u001b[39mdata, \u001b[39m*\u001b[39m\u001b[39m*\u001b[39mkwargs)]\n\u001b[0;32m   <a href='file:///~/AppData/Roaming/Python/Python310/site-packages/matplotlib/axes/_axes.py?line=1632'>1633</a>\u001b[0m \u001b[39mfor\u001b[39;00m line \u001b[39min\u001b[39;00m lines:\n\u001b[0;32m   <a href='file:///~/AppData/Roaming/Python/Python310/site-packages/matplotlib/axes/_axes.py?line=1633'>1634</a>\u001b[0m     \u001b[39mself\u001b[39m\u001b[39m.\u001b[39madd_line(line)\n",
      "File \u001b[1;32m~\\AppData\\Roaming\\Python\\Python310\\site-packages\\matplotlib\\axes\\_base.py:312\u001b[0m, in \u001b[0;36m_process_plot_var_args.__call__\u001b[1;34m(self, data, *args, **kwargs)\u001b[0m\n\u001b[0;32m    <a href='file:///~/AppData/Roaming/Python/Python310/site-packages/matplotlib/axes/_base.py?line=309'>310</a>\u001b[0m     this \u001b[39m+\u001b[39m\u001b[39m=\u001b[39m args[\u001b[39m0\u001b[39m],\n\u001b[0;32m    <a href='file:///~/AppData/Roaming/Python/Python310/site-packages/matplotlib/axes/_base.py?line=310'>311</a>\u001b[0m     args \u001b[39m=\u001b[39m args[\u001b[39m1\u001b[39m:]\n\u001b[1;32m--> <a href='file:///~/AppData/Roaming/Python/Python310/site-packages/matplotlib/axes/_base.py?line=311'>312</a>\u001b[0m \u001b[39myield from\u001b[39;00m \u001b[39mself\u001b[39;49m\u001b[39m.\u001b[39;49m_plot_args(this, kwargs)\n",
      "File \u001b[1;32m~\\AppData\\Roaming\\Python\\Python310\\site-packages\\matplotlib\\axes\\_base.py:498\u001b[0m, in \u001b[0;36m_process_plot_var_args._plot_args\u001b[1;34m(self, tup, kwargs, return_kwargs)\u001b[0m\n\u001b[0;32m    <a href='file:///~/AppData/Roaming/Python/Python310/site-packages/matplotlib/axes/_base.py?line=494'>495</a>\u001b[0m     \u001b[39mself\u001b[39m\u001b[39m.\u001b[39maxes\u001b[39m.\u001b[39myaxis\u001b[39m.\u001b[39mupdate_units(y)\n\u001b[0;32m    <a href='file:///~/AppData/Roaming/Python/Python310/site-packages/matplotlib/axes/_base.py?line=496'>497</a>\u001b[0m \u001b[39mif\u001b[39;00m x\u001b[39m.\u001b[39mshape[\u001b[39m0\u001b[39m] \u001b[39m!=\u001b[39m y\u001b[39m.\u001b[39mshape[\u001b[39m0\u001b[39m]:\n\u001b[1;32m--> <a href='file:///~/AppData/Roaming/Python/Python310/site-packages/matplotlib/axes/_base.py?line=497'>498</a>\u001b[0m     \u001b[39mraise\u001b[39;00m \u001b[39mValueError\u001b[39;00m(\u001b[39mf\u001b[39m\u001b[39m\"\u001b[39m\u001b[39mx and y must have same first dimension, but \u001b[39m\u001b[39m\"\u001b[39m\n\u001b[0;32m    <a href='file:///~/AppData/Roaming/Python/Python310/site-packages/matplotlib/axes/_base.py?line=498'>499</a>\u001b[0m                      \u001b[39mf\u001b[39m\u001b[39m\"\u001b[39m\u001b[39mhave shapes \u001b[39m\u001b[39m{\u001b[39;00mx\u001b[39m.\u001b[39mshape\u001b[39m}\u001b[39;00m\u001b[39m and \u001b[39m\u001b[39m{\u001b[39;00my\u001b[39m.\u001b[39mshape\u001b[39m}\u001b[39;00m\u001b[39m\"\u001b[39m)\n\u001b[0;32m    <a href='file:///~/AppData/Roaming/Python/Python310/site-packages/matplotlib/axes/_base.py?line=499'>500</a>\u001b[0m \u001b[39mif\u001b[39;00m x\u001b[39m.\u001b[39mndim \u001b[39m>\u001b[39m \u001b[39m2\u001b[39m \u001b[39mor\u001b[39;00m y\u001b[39m.\u001b[39mndim \u001b[39m>\u001b[39m \u001b[39m2\u001b[39m:\n\u001b[0;32m    <a href='file:///~/AppData/Roaming/Python/Python310/site-packages/matplotlib/axes/_base.py?line=500'>501</a>\u001b[0m     \u001b[39mraise\u001b[39;00m \u001b[39mValueError\u001b[39;00m(\u001b[39mf\u001b[39m\u001b[39m\"\u001b[39m\u001b[39mx and y can be no greater than 2D, but have \u001b[39m\u001b[39m\"\u001b[39m\n\u001b[0;32m    <a href='file:///~/AppData/Roaming/Python/Python310/site-packages/matplotlib/axes/_base.py?line=501'>502</a>\u001b[0m                      \u001b[39mf\u001b[39m\u001b[39m\"\u001b[39m\u001b[39mshapes \u001b[39m\u001b[39m{\u001b[39;00mx\u001b[39m.\u001b[39mshape\u001b[39m}\u001b[39;00m\u001b[39m and \u001b[39m\u001b[39m{\u001b[39;00my\u001b[39m.\u001b[39mshape\u001b[39m}\u001b[39;00m\u001b[39m\"\u001b[39m)\n",
      "\u001b[1;31mValueError\u001b[0m: x and y must have same first dimension, but have shapes (100,) and (907, 1)"
     ]
    },
    {
     "data": {
      "image/png": "[encoded data removed]",
      "text/plain": [
       "<Figure size 432x288 with 1 Axes>"
      ]
     },
     "metadata": {
      "needs_background": "light"
     },
     "output_type": "display_data"
    }
   ],
   "source": [
    "plt.plot(day_new, scaler.inverse_transform(df_close[1128:]))\n",
    "plt.plot(day_pred, scaler.inverse_transform(lst_output))"
   ]
  }
 ],
 "metadata": {
  "interpreter": {
   "hash": "b89b5cfaba6639976dc87ff2fec6d58faec662063367e2c229c520fe71072417"
  },
  "kernelspec": {
   "display_name": "Python 3.10.2 64-bit",
   "language": "python",
   "name": "python3"
  },
  "language_info": {
   "codemirror_mode": {
    "name": "ipython",
    "version": 3
   },
   "file_extension": ".py",
   "mimetype": "text/x-python",
   "name": "python",
   "nbconvert_exporter": "python",
   "pygments_lexer": "ipython3",
   "version": "3.10.2"
  },
  "orig_nbformat": 4
 },
 "nbformat": 4,
 "nbformat_minor": 2
}
